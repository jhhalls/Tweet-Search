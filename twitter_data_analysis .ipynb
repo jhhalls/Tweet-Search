@author: jhhalls

{
 "cells": [
  {
   "cell_type": "code",
   "execution_count": 1,
   "metadata": {},
   "outputs": [],
   "source": [
    "import pandas as pd\n",
    "import numpy as np\n"
   ]
  },
  {
   "cell_type": "code",
   "execution_count": 2,
   "metadata": {
    "scrolled": true
   },
   "outputs": [
    {
     "data": {
      "text/html": [
       "<div>\n",
       "<style scoped>\n",
       "    .dataframe tbody tr th:only-of-type {\n",
       "        vertical-align: middle;\n",
       "    }\n",
       "\n",
       "    .dataframe tbody tr th {\n",
       "        vertical-align: top;\n",
       "    }\n",
       "\n",
       "    .dataframe thead th {\n",
       "        text-align: right;\n",
       "    }\n",
       "</style>\n",
       "<table border=\"1\" class=\"dataframe\">\n",
       "  <thead>\n",
       "    <tr style=\"text-align: right;\">\n",
       "      <th></th>\n",
       "      <th>date</th>\n",
       "      <th>time</th>\n",
       "      <th>tweet</th>\n",
       "      <th>mentions</th>\n",
       "      <th>photos</th>\n",
       "      <th>replies_count</th>\n",
       "      <th>retweets_count</th>\n",
       "      <th>likes_count</th>\n",
       "    </tr>\n",
       "  </thead>\n",
       "  <tbody>\n",
       "    <tr>\n",
       "      <th>0</th>\n",
       "      <td>2020-06-29</td>\n",
       "      <td>09:36:13</td>\n",
       "      <td>\"Going from 15k to 170k in salary...There's no...</td>\n",
       "      <td>[]</td>\n",
       "      <td>['https://pbs.twimg.com/media/EbrvY0SWoAcEQWn....</td>\n",
       "      <td>0</td>\n",
       "      <td>0</td>\n",
       "      <td>0</td>\n",
       "    </tr>\n",
       "    <tr>\n",
       "      <th>1</th>\n",
       "      <td>2020-06-26</td>\n",
       "      <td>14:14:44</td>\n",
       "      <td>Hi Tom, sorry about that! We try to respond to...</td>\n",
       "      <td>['beingtomiwa']</td>\n",
       "      <td>[]</td>\n",
       "      <td>0</td>\n",
       "      <td>0</td>\n",
       "      <td>0</td>\n",
       "    </tr>\n",
       "    <tr>\n",
       "      <th>2</th>\n",
       "      <td>2020-06-26</td>\n",
       "      <td>12:00:14</td>\n",
       "      <td>Become an @rstudio power user: https://bit.ly/...</td>\n",
       "      <td>['rstudio']</td>\n",
       "      <td>[]</td>\n",
       "      <td>0</td>\n",
       "      <td>2</td>\n",
       "      <td>7</td>\n",
       "    </tr>\n",
       "    <tr>\n",
       "      <th>3</th>\n",
       "      <td>2020-06-26</td>\n",
       "      <td>11:23:21</td>\n",
       "      <td>Please get in touch with our support team by e...</td>\n",
       "      <td>['jimohkassim']</td>\n",
       "      <td>[]</td>\n",
       "      <td>0</td>\n",
       "      <td>0</td>\n",
       "      <td>0</td>\n",
       "    </tr>\n",
       "    <tr>\n",
       "      <th>4</th>\n",
       "      <td>2020-06-26</td>\n",
       "      <td>02:00:05</td>\n",
       "      <td>Learn to master R markdown in this free tutori...</td>\n",
       "      <td>[]</td>\n",
       "      <td>[]</td>\n",
       "      <td>0</td>\n",
       "      <td>2</td>\n",
       "      <td>7</td>\n",
       "    </tr>\n",
       "  </tbody>\n",
       "</table>\n",
       "</div>"
      ],
      "text/plain": [
       "         date      time                                              tweet  \\\n",
       "0  2020-06-29  09:36:13  \"Going from 15k to 170k in salary...There's no...   \n",
       "1  2020-06-26  14:14:44  Hi Tom, sorry about that! We try to respond to...   \n",
       "2  2020-06-26  12:00:14  Become an @rstudio power user: https://bit.ly/...   \n",
       "3  2020-06-26  11:23:21  Please get in touch with our support team by e...   \n",
       "4  2020-06-26  02:00:05  Learn to master R markdown in this free tutori...   \n",
       "\n",
       "          mentions                                             photos  \\\n",
       "0               []  ['https://pbs.twimg.com/media/EbrvY0SWoAcEQWn....   \n",
       "1  ['beingtomiwa']                                                 []   \n",
       "2      ['rstudio']                                                 []   \n",
       "3  ['jimohkassim']                                                 []   \n",
       "4               []                                                 []   \n",
       "\n",
       "  replies_count  retweets_count  likes_count  \n",
       "0             0               0            0  \n",
       "1             0               0            0  \n",
       "2             0               2            7  \n",
       "3             0               0            0  \n",
       "4             0               2            7  "
      ]
     },
     "execution_count": 2,
     "metadata": {},
     "output_type": "execute_result"
    }
   ],
   "source": [
    "df = pd.read_csv('tweets_csv.csv')\n",
    "df.head(5)"
   ]
  },
  {
   "cell_type": "markdown",
   "metadata": {},
   "source": [
    "# adding columns based on the any condition"
   ]
  },
  {
   "cell_type": "code",
   "execution_count": 3,
   "metadata": {},
   "outputs": [],
   "source": [
    "df['has_image'] = np.where(df['photos']!= '[]', True, False)"
   ]
  },
  {
   "cell_type": "code",
   "execution_count": 4,
   "metadata": {
    "scrolled": true
   },
   "outputs": [
    {
     "data": {
      "text/html": [
       "<div>\n",
       "<style scoped>\n",
       "    .dataframe tbody tr th:only-of-type {\n",
       "        vertical-align: middle;\n",
       "    }\n",
       "\n",
       "    .dataframe tbody tr th {\n",
       "        vertical-align: top;\n",
       "    }\n",
       "\n",
       "    .dataframe thead th {\n",
       "        text-align: right;\n",
       "    }\n",
       "</style>\n",
       "<table border=\"1\" class=\"dataframe\">\n",
       "  <thead>\n",
       "    <tr style=\"text-align: right;\">\n",
       "      <th></th>\n",
       "      <th>date</th>\n",
       "      <th>time</th>\n",
       "      <th>tweet</th>\n",
       "      <th>mentions</th>\n",
       "      <th>photos</th>\n",
       "      <th>replies_count</th>\n",
       "      <th>retweets_count</th>\n",
       "      <th>likes_count</th>\n",
       "      <th>has_image</th>\n",
       "    </tr>\n",
       "  </thead>\n",
       "  <tbody>\n",
       "    <tr>\n",
       "      <th>0</th>\n",
       "      <td>2020-06-29</td>\n",
       "      <td>09:36:13</td>\n",
       "      <td>\"Going from 15k to 170k in salary...There's no...</td>\n",
       "      <td>[]</td>\n",
       "      <td>['https://pbs.twimg.com/media/EbrvY0SWoAcEQWn....</td>\n",
       "      <td>0</td>\n",
       "      <td>0</td>\n",
       "      <td>0</td>\n",
       "      <td>True</td>\n",
       "    </tr>\n",
       "    <tr>\n",
       "      <th>1</th>\n",
       "      <td>2020-06-26</td>\n",
       "      <td>14:14:44</td>\n",
       "      <td>Hi Tom, sorry about that! We try to respond to...</td>\n",
       "      <td>['beingtomiwa']</td>\n",
       "      <td>[]</td>\n",
       "      <td>0</td>\n",
       "      <td>0</td>\n",
       "      <td>0</td>\n",
       "      <td>False</td>\n",
       "    </tr>\n",
       "    <tr>\n",
       "      <th>2</th>\n",
       "      <td>2020-06-26</td>\n",
       "      <td>12:00:14</td>\n",
       "      <td>Become an @rstudio power user: https://bit.ly/...</td>\n",
       "      <td>['rstudio']</td>\n",
       "      <td>[]</td>\n",
       "      <td>0</td>\n",
       "      <td>2</td>\n",
       "      <td>7</td>\n",
       "      <td>False</td>\n",
       "    </tr>\n",
       "    <tr>\n",
       "      <th>3</th>\n",
       "      <td>2020-06-26</td>\n",
       "      <td>11:23:21</td>\n",
       "      <td>Please get in touch with our support team by e...</td>\n",
       "      <td>['jimohkassim']</td>\n",
       "      <td>[]</td>\n",
       "      <td>0</td>\n",
       "      <td>0</td>\n",
       "      <td>0</td>\n",
       "      <td>False</td>\n",
       "    </tr>\n",
       "    <tr>\n",
       "      <th>4</th>\n",
       "      <td>2020-06-26</td>\n",
       "      <td>02:00:05</td>\n",
       "      <td>Learn to master R markdown in this free tutori...</td>\n",
       "      <td>[]</td>\n",
       "      <td>[]</td>\n",
       "      <td>0</td>\n",
       "      <td>2</td>\n",
       "      <td>7</td>\n",
       "      <td>False</td>\n",
       "    </tr>\n",
       "  </tbody>\n",
       "</table>\n",
       "</div>"
      ],
      "text/plain": [
       "         date      time                                              tweet  \\\n",
       "0  2020-06-29  09:36:13  \"Going from 15k to 170k in salary...There's no...   \n",
       "1  2020-06-26  14:14:44  Hi Tom, sorry about that! We try to respond to...   \n",
       "2  2020-06-26  12:00:14  Become an @rstudio power user: https://bit.ly/...   \n",
       "3  2020-06-26  11:23:21  Please get in touch with our support team by e...   \n",
       "4  2020-06-26  02:00:05  Learn to master R markdown in this free tutori...   \n",
       "\n",
       "          mentions                                             photos  \\\n",
       "0               []  ['https://pbs.twimg.com/media/EbrvY0SWoAcEQWn....   \n",
       "1  ['beingtomiwa']                                                 []   \n",
       "2      ['rstudio']                                                 []   \n",
       "3  ['jimohkassim']                                                 []   \n",
       "4               []                                                 []   \n",
       "\n",
       "  replies_count  retweets_count  likes_count  has_image  \n",
       "0             0               0            0       True  \n",
       "1             0               0            0      False  \n",
       "2             0               2            7      False  \n",
       "3             0               0            0      False  \n",
       "4             0               2            7      False  "
      ]
     },
     "execution_count": 4,
     "metadata": {},
     "output_type": "execute_result"
    }
   ],
   "source": [
    "df.head()"
   ]
  },
  {
   "cell_type": "code",
   "execution_count": 6,
   "metadata": {},
   "outputs": [
    {
     "data": {
      "text/plain": [
       "[]                                                     4011\n",
       "['https://pbs.twimg.com/media/DY-fhb_UMAApyET.png']       3\n",
       "['https://pbs.twimg.com/media/EZhNddSXkAErjXp.png']       1\n",
       "['https://pbs.twimg.com/media/DUajhtoXcAAWPMZ.jpg']       1\n",
       "['https://pbs.twimg.com/media/DthiQ6iW4AABkxQ.jpg']       1\n",
       "                                                       ... \n",
       "['https://pbs.twimg.com/media/ERR_vdKU8AMn3zZ.jpg']       1\n",
       "['https://pbs.twimg.com/media/DvDmLs_WkAA85KY.jpg']       1\n",
       "['http://bit.ly/2YXDMTa']                                 1\n",
       "['https://pbs.twimg.com/media/DHSAqD0UQAI5g05.jpg']       1\n",
       "['https://pbs.twimg.com/media/DIn2mLVVoAAiRnn.jpg']       1\n",
       "Name: photos, Length: 517, dtype: int64"
      ]
     },
     "execution_count": 6,
     "metadata": {},
     "output_type": "execute_result"
    }
   ],
   "source": [
    "df['photos'].value_counts()"
   ]
  },
  {
   "cell_type": "code",
   "execution_count": 9,
   "metadata": {},
   "outputs": [],
   "source": [
    "#  some new dataframes\n",
    "image_tweets = df[df['has_image'] == True]\n",
    "non_image_tweets = df[df['has_image'] == False]"
   ]
  },
  {
   "cell_type": "code",
   "execution_count": 10,
   "metadata": {
    "scrolled": true
   },
   "outputs": [
    {
     "data": {
      "text/html": [
       "<div>\n",
       "<style scoped>\n",
       "    .dataframe tbody tr th:only-of-type {\n",
       "        vertical-align: middle;\n",
       "    }\n",
       "\n",
       "    .dataframe tbody tr th {\n",
       "        vertical-align: top;\n",
       "    }\n",
       "\n",
       "    .dataframe thead th {\n",
       "        text-align: right;\n",
       "    }\n",
       "</style>\n",
       "<table border=\"1\" class=\"dataframe\">\n",
       "  <thead>\n",
       "    <tr style=\"text-align: right;\">\n",
       "      <th></th>\n",
       "      <th>date</th>\n",
       "      <th>time</th>\n",
       "      <th>tweet</th>\n",
       "      <th>mentions</th>\n",
       "      <th>photos</th>\n",
       "      <th>replies_count</th>\n",
       "      <th>retweets_count</th>\n",
       "      <th>likes_count</th>\n",
       "      <th>has_image</th>\n",
       "    </tr>\n",
       "  </thead>\n",
       "  <tbody>\n",
       "    <tr>\n",
       "      <th>0</th>\n",
       "      <td>2020-06-29</td>\n",
       "      <td>09:36:13</td>\n",
       "      <td>\"Going from 15k to 170k in salary...There's no...</td>\n",
       "      <td>[]</td>\n",
       "      <td>['https://pbs.twimg.com/media/EbrvY0SWoAcEQWn....</td>\n",
       "      <td>0</td>\n",
       "      <td>0</td>\n",
       "      <td>0</td>\n",
       "      <td>True</td>\n",
       "    </tr>\n",
       "    <tr>\n",
       "      <th>7</th>\n",
       "      <td>2020-06-25</td>\n",
       "      <td>10:03:04</td>\n",
       "      <td>\"I'm really learning more at Dataquest than fr...</td>\n",
       "      <td>[]</td>\n",
       "      <td>['https://pbs.twimg.com/media/EbXPOjqXgAIgE2f....</td>\n",
       "      <td>1</td>\n",
       "      <td>0</td>\n",
       "      <td>4</td>\n",
       "      <td>True</td>\n",
       "    </tr>\n",
       "    <tr>\n",
       "      <th>10</th>\n",
       "      <td>2020-06-24</td>\n",
       "      <td>09:38:54</td>\n",
       "      <td>\"Dataquest really helped me to switch my caree...</td>\n",
       "      <td>[]</td>\n",
       "      <td>['https://pbs.twimg.com/media/EbR_-LoXsAEoCB3....</td>\n",
       "      <td>1</td>\n",
       "      <td>0</td>\n",
       "      <td>0</td>\n",
       "      <td>True</td>\n",
       "    </tr>\n",
       "    <tr>\n",
       "      <th>12</th>\n",
       "      <td>2020-06-23</td>\n",
       "      <td>18:00:28</td>\n",
       "      <td>We've shared this @lizandmollie image before, ...</td>\n",
       "      <td>['lizandmollie']</td>\n",
       "      <td>['https://pbs.twimg.com/media/EbOpVg6WAAAJcIH....</td>\n",
       "      <td>0</td>\n",
       "      <td>16</td>\n",
       "      <td>41</td>\n",
       "      <td>True</td>\n",
       "    </tr>\n",
       "    <tr>\n",
       "      <th>21</th>\n",
       "      <td>2020-06-22</td>\n",
       "      <td>12:51:55</td>\n",
       "      <td>\"I feel more comfortable using data, which all...</td>\n",
       "      <td>[]</td>\n",
       "      <td>['https://pbs.twimg.com/media/EbIZHbMX0AIXy1p....</td>\n",
       "      <td>1</td>\n",
       "      <td>0</td>\n",
       "      <td>1</td>\n",
       "      <td>True</td>\n",
       "    </tr>\n",
       "    <tr>\n",
       "      <th>...</th>\n",
       "      <td>...</td>\n",
       "      <td>...</td>\n",
       "      <td>...</td>\n",
       "      <td>...</td>\n",
       "      <td>...</td>\n",
       "      <td>...</td>\n",
       "      <td>...</td>\n",
       "      <td>...</td>\n",
       "      <td>...</td>\n",
       "    </tr>\n",
       "    <tr>\n",
       "      <th>3888</th>\n",
       "      <td>2016-05-16</td>\n",
       "      <td>18:25:40</td>\n",
       "      <td>Matplotlib Tutorial - Plotting Tweets from 201...</td>\n",
       "      <td>[]</td>\n",
       "      <td>['https://pbs.twimg.com/media/CinH5z_U4AEws0s....</td>\n",
       "      <td>0</td>\n",
       "      <td>2</td>\n",
       "      <td>5</td>\n",
       "      <td>True</td>\n",
       "    </tr>\n",
       "    <tr>\n",
       "      <th>3958</th>\n",
       "      <td>2016-01-03</td>\n",
       "      <td>09:30:17</td>\n",
       "      <td>Top 10 Machine Learning Projects on Github</td>\n",
       "      <td>Lessons from 2 MM Kaggle Models #datascience ...</td>\n",
       "      <td>['http://bit.ly/1MHoz9s']</td>\n",
       "      <td>[]</td>\n",
       "      <td>0</td>\n",
       "      <td>2</td>\n",
       "      <td>True</td>\n",
       "    </tr>\n",
       "    <tr>\n",
       "      <th>4106</th>\n",
       "      <td>2015-10-29</td>\n",
       "      <td>09:30:36</td>\n",
       "      <td>Fitting a Neural Network in R</td>\n",
       "      <td>neuralnet package #data  http://bit.ly/1LKC0GB</td>\n",
       "      <td>['http://bit.ly/1LKC0GB']</td>\n",
       "      <td>[]</td>\n",
       "      <td>0</td>\n",
       "      <td>0</td>\n",
       "      <td>True</td>\n",
       "    </tr>\n",
       "    <tr>\n",
       "      <th>4182</th>\n",
       "      <td>2015-10-12</td>\n",
       "      <td>11:00:30</td>\n",
       "      <td>Top stories for Oct 4-10: 5 steps to actually ...</td>\n",
       "      <td>90+ Active Blogs on Analytics #datascience  h...</td>\n",
       "      <td>['http://bit.ly/1jYFle2']</td>\n",
       "      <td>[]</td>\n",
       "      <td>0</td>\n",
       "      <td>0</td>\n",
       "      <td>True</td>\n",
       "    </tr>\n",
       "    <tr>\n",
       "      <th>4203</th>\n",
       "      <td>2015-10-07</td>\n",
       "      <td>09:30:33</td>\n",
       "      <td>Fitting a neural network in R</td>\n",
       "      <td>neuralnet package #datascience  http://bit.ly...</td>\n",
       "      <td>['http://bit.ly/1L3R9pq']</td>\n",
       "      <td>[]</td>\n",
       "      <td>0</td>\n",
       "      <td>0</td>\n",
       "      <td>True</td>\n",
       "    </tr>\n",
       "  </tbody>\n",
       "</table>\n",
       "<p>518 rows × 9 columns</p>\n",
       "</div>"
      ],
      "text/plain": [
       "            date      time                                              tweet  \\\n",
       "0     2020-06-29  09:36:13  \"Going from 15k to 170k in salary...There's no...   \n",
       "7     2020-06-25  10:03:04  \"I'm really learning more at Dataquest than fr...   \n",
       "10    2020-06-24  09:38:54  \"Dataquest really helped me to switch my caree...   \n",
       "12    2020-06-23  18:00:28  We've shared this @lizandmollie image before, ...   \n",
       "21    2020-06-22  12:51:55  \"I feel more comfortable using data, which all...   \n",
       "...          ...       ...                                                ...   \n",
       "3888  2016-05-16  18:25:40  Matplotlib Tutorial - Plotting Tweets from 201...   \n",
       "3958  2016-01-03  09:30:17         Top 10 Machine Learning Projects on Github   \n",
       "4106  2015-10-29  09:30:36                      Fitting a Neural Network in R   \n",
       "4182  2015-10-12  11:00:30  Top stories for Oct 4-10: 5 steps to actually ...   \n",
       "4203  2015-10-07  09:30:33                      Fitting a neural network in R   \n",
       "\n",
       "                                               mentions  \\\n",
       "0                                                    []   \n",
       "7                                                    []   \n",
       "10                                                   []   \n",
       "12                                     ['lizandmollie']   \n",
       "21                                                   []   \n",
       "...                                                 ...   \n",
       "3888                                                 []   \n",
       "3958   Lessons from 2 MM Kaggle Models #datascience ...   \n",
       "4106    neuralnet package #data  http://bit.ly/1LKC0GB    \n",
       "4182   90+ Active Blogs on Analytics #datascience  h...   \n",
       "4203   neuralnet package #datascience  http://bit.ly...   \n",
       "\n",
       "                                                 photos replies_count  \\\n",
       "0     ['https://pbs.twimg.com/media/EbrvY0SWoAcEQWn....             0   \n",
       "7     ['https://pbs.twimg.com/media/EbXPOjqXgAIgE2f....             1   \n",
       "10    ['https://pbs.twimg.com/media/EbR_-LoXsAEoCB3....             1   \n",
       "12    ['https://pbs.twimg.com/media/EbOpVg6WAAAJcIH....             0   \n",
       "21    ['https://pbs.twimg.com/media/EbIZHbMX0AIXy1p....             1   \n",
       "...                                                 ...           ...   \n",
       "3888  ['https://pbs.twimg.com/media/CinH5z_U4AEws0s....             0   \n",
       "3958                          ['http://bit.ly/1MHoz9s']            []   \n",
       "4106                          ['http://bit.ly/1LKC0GB']            []   \n",
       "4182                          ['http://bit.ly/1jYFle2']            []   \n",
       "4203                          ['http://bit.ly/1L3R9pq']            []   \n",
       "\n",
       "      retweets_count  likes_count  has_image  \n",
       "0                  0            0       True  \n",
       "7                  0            4       True  \n",
       "10                 0            0       True  \n",
       "12                16           41       True  \n",
       "21                 0            1       True  \n",
       "...              ...          ...        ...  \n",
       "3888               2            5       True  \n",
       "3958               0            2       True  \n",
       "4106               0            0       True  \n",
       "4182               0            0       True  \n",
       "4203               0            0       True  \n",
       "\n",
       "[518 rows x 9 columns]"
      ]
     },
     "execution_count": 10,
     "metadata": {},
     "output_type": "execute_result"
    }
   ],
   "source": [
    "image_tweets"
   ]
  },
  {
   "cell_type": "code",
   "execution_count": 11,
   "metadata": {},
   "outputs": [
    {
     "data": {
      "text/html": [
       "<div>\n",
       "<style scoped>\n",
       "    .dataframe tbody tr th:only-of-type {\n",
       "        vertical-align: middle;\n",
       "    }\n",
       "\n",
       "    .dataframe tbody tr th {\n",
       "        vertical-align: top;\n",
       "    }\n",
       "\n",
       "    .dataframe thead th {\n",
       "        text-align: right;\n",
       "    }\n",
       "</style>\n",
       "<table border=\"1\" class=\"dataframe\">\n",
       "  <thead>\n",
       "    <tr style=\"text-align: right;\">\n",
       "      <th></th>\n",
       "      <th>date</th>\n",
       "      <th>time</th>\n",
       "      <th>tweet</th>\n",
       "      <th>mentions</th>\n",
       "      <th>photos</th>\n",
       "      <th>replies_count</th>\n",
       "      <th>retweets_count</th>\n",
       "      <th>likes_count</th>\n",
       "      <th>has_image</th>\n",
       "    </tr>\n",
       "  </thead>\n",
       "  <tbody>\n",
       "    <tr>\n",
       "      <th>1</th>\n",
       "      <td>2020-06-26</td>\n",
       "      <td>14:14:44</td>\n",
       "      <td>Hi Tom, sorry about that! We try to respond to...</td>\n",
       "      <td>['beingtomiwa']</td>\n",
       "      <td>[]</td>\n",
       "      <td>0</td>\n",
       "      <td>0</td>\n",
       "      <td>0</td>\n",
       "      <td>False</td>\n",
       "    </tr>\n",
       "    <tr>\n",
       "      <th>2</th>\n",
       "      <td>2020-06-26</td>\n",
       "      <td>12:00:14</td>\n",
       "      <td>Become an @rstudio power user: https://bit.ly/...</td>\n",
       "      <td>['rstudio']</td>\n",
       "      <td>[]</td>\n",
       "      <td>0</td>\n",
       "      <td>2</td>\n",
       "      <td>7</td>\n",
       "      <td>False</td>\n",
       "    </tr>\n",
       "    <tr>\n",
       "      <th>3</th>\n",
       "      <td>2020-06-26</td>\n",
       "      <td>11:23:21</td>\n",
       "      <td>Please get in touch with our support team by e...</td>\n",
       "      <td>['jimohkassim']</td>\n",
       "      <td>[]</td>\n",
       "      <td>0</td>\n",
       "      <td>0</td>\n",
       "      <td>0</td>\n",
       "      <td>False</td>\n",
       "    </tr>\n",
       "    <tr>\n",
       "      <th>4</th>\n",
       "      <td>2020-06-26</td>\n",
       "      <td>02:00:05</td>\n",
       "      <td>Learn to master R markdown in this free tutori...</td>\n",
       "      <td>[]</td>\n",
       "      <td>[]</td>\n",
       "      <td>0</td>\n",
       "      <td>2</td>\n",
       "      <td>7</td>\n",
       "      <td>False</td>\n",
       "    </tr>\n",
       "    <tr>\n",
       "      <th>5</th>\n",
       "      <td>2020-06-25</td>\n",
       "      <td>21:00:05</td>\n",
       "      <td>This is an interesting story about what was so...</td>\n",
       "      <td>[]</td>\n",
       "      <td>[]</td>\n",
       "      <td>0</td>\n",
       "      <td>1</td>\n",
       "      <td>2</td>\n",
       "      <td>False</td>\n",
       "    </tr>\n",
       "  </tbody>\n",
       "</table>\n",
       "</div>"
      ],
      "text/plain": [
       "         date      time                                              tweet  \\\n",
       "1  2020-06-26  14:14:44  Hi Tom, sorry about that! We try to respond to...   \n",
       "2  2020-06-26  12:00:14  Become an @rstudio power user: https://bit.ly/...   \n",
       "3  2020-06-26  11:23:21  Please get in touch with our support team by e...   \n",
       "4  2020-06-26  02:00:05  Learn to master R markdown in this free tutori...   \n",
       "5  2020-06-25  21:00:05  This is an interesting story about what was so...   \n",
       "\n",
       "          mentions photos replies_count  retweets_count  likes_count  \\\n",
       "1  ['beingtomiwa']     []             0               0            0   \n",
       "2      ['rstudio']     []             0               2            7   \n",
       "3  ['jimohkassim']     []             0               0            0   \n",
       "4               []     []             0               2            7   \n",
       "5               []     []             0               1            2   \n",
       "\n",
       "   has_image  \n",
       "1      False  \n",
       "2      False  \n",
       "3      False  \n",
       "4      False  \n",
       "5      False  "
      ]
     },
     "execution_count": 11,
     "metadata": {},
     "output_type": "execute_result"
    }
   ],
   "source": [
    "non_image_tweets.head()"
   ]
  },
  {
   "cell_type": "code",
   "execution_count": 22,
   "metadata": {},
   "outputs": [
    {
     "data": {
      "text/plain": [
       "False    4011\n",
       "True      518\n",
       "Name: has_image, dtype: int64"
      ]
     },
     "execution_count": 22,
     "metadata": {},
     "output_type": "execute_result"
    }
   ],
   "source": [
    "df['has_image'].value_counts()"
   ]
  },
  {
   "cell_type": "markdown",
   "metadata": {},
   "source": [
    "# Likes"
   ]
  },
  {
   "cell_type": "code",
   "execution_count": 48,
   "metadata": {},
   "outputs": [
    {
     "data": {
      "text/plain": [
       "518"
      ]
     },
     "execution_count": 48,
     "metadata": {},
     "output_type": "execute_result"
    }
   ],
   "source": [
    "(df['has_image']==True).sum()"
   ]
  },
  {
   "cell_type": "code",
   "execution_count": 58,
   "metadata": {},
   "outputs": [
    {
     "name": "stdout",
     "output_type": "stream",
     "text": [
      "Average likes, all tweets (4529): 6.209759328770148\n",
      "Average Likes, Image tweets (518) 14.21042471042471\n",
      "Average like, non image tweets (4011) 5.176514584891549\n"
     ]
    }
   ],
   "source": [
    "print('Average likes, all tweets ({}):'.format(df.shape[0]),str(df['likes_count'].mean()))\n",
    "print('Average Likes, Image tweets ({})'.format((image_tweets['has_image'].sum())), str(image_tweets['likes_count'].mean()))\n",
    "print('Average like, non image tweets ({})'.format(non_image_tweets.shape[0]), str(non_image_tweets['likes_count'].mean()))"
   ]
  },
  {
   "cell_type": "markdown",
   "metadata": {},
   "source": [
    "# Retweets"
   ]
  },
  {
   "cell_type": "code",
   "execution_count": 60,
   "metadata": {},
   "outputs": [
    {
     "name": "stdout",
     "output_type": "stream",
     "text": [
      "average retweet, all tweets (4529): 1.5553102230072864\n"
     ]
    }
   ],
   "source": [
    "print('average retweet, all tweets ({}):'.format(df.shape[0]), str(df['retweets_count'].mean()))"
   ]
  },
  {
   "cell_type": "code",
   "execution_count": 62,
   "metadata": {},
   "outputs": [
    {
     "name": "stdout",
     "output_type": "stream",
     "text": [
      "average retweets, image tweets (518): 3.5386100386100385\n"
     ]
    }
   ],
   "source": [
    "print('average retweets, image tweets ({}):'.format(image_tweets.shape[0]), str(image_tweets['retweets_count'].mean()))"
   ]
  },
  {
   "cell_type": "code",
   "execution_count": 63,
   "metadata": {},
   "outputs": [
    {
     "name": "stdout",
     "output_type": "stream",
     "text": [
      "average retweet, non image tweet (4011): 1.2991772625280478\n"
     ]
    }
   ],
   "source": [
    "print('average retweet, non image tweet ({}):'.format(non_image_tweets.shape[0]), str(non_image_tweets['retweets_count'].mean()))"
   ]
  },
  {
   "cell_type": "markdown",
   "metadata": {},
   "source": [
    "# adding columns based on conditions"
   ]
  },
  {
   "cell_type": "code",
   "execution_count": 70,
   "metadata": {},
   "outputs": [
    {
     "ename": "ValueError",
     "evalue": "The truth value of a Series is ambiguous. Use a.empty, a.bool(), a.item(), a.any() or a.all().",
     "output_type": "error",
     "traceback": [
      "\u001b[0;31m---------------------------------------------------------------------------\u001b[0m",
      "\u001b[0;31mValueError\u001b[0m                                Traceback (most recent call last)",
      "\u001b[0;32m<ipython-input-70-a94e96efc7c3>\u001b[0m in \u001b[0;36m<module>\u001b[0;34m\u001b[0m\n\u001b[1;32m      2\u001b[0m conditions = [\n\u001b[1;32m      3\u001b[0m     \u001b[0;34m(\u001b[0m\u001b[0mdf\u001b[0m\u001b[0;34m[\u001b[0m\u001b[0;34m'likes_count'\u001b[0m\u001b[0;34m]\u001b[0m\u001b[0;34m<=\u001b[0m\u001b[0;36m2\u001b[0m\u001b[0;34m)\u001b[0m\u001b[0;34m,\u001b[0m\u001b[0;34m\u001b[0m\u001b[0;34m\u001b[0m\u001b[0m\n\u001b[0;32m----> 4\u001b[0;31m     \u001b[0;34m(\u001b[0m\u001b[0mdf\u001b[0m\u001b[0;34m[\u001b[0m\u001b[0;34m'likes_count'\u001b[0m\u001b[0;34m]\u001b[0m\u001b[0;34m>\u001b[0m\u001b[0;36m2\u001b[0m\u001b[0;34m)\u001b[0m \u001b[0;32mand\u001b[0m \u001b[0;34m(\u001b[0m\u001b[0mdf\u001b[0m\u001b[0;34m[\u001b[0m\u001b[0;34m'likes_count'\u001b[0m\u001b[0;34m]\u001b[0m\u001b[0;34m<=\u001b[0m\u001b[0;36m9\u001b[0m\u001b[0;34m)\u001b[0m\u001b[0;34m,\u001b[0m\u001b[0;34m\u001b[0m\u001b[0;34m\u001b[0m\u001b[0m\n\u001b[0m\u001b[1;32m      5\u001b[0m     \u001b[0;34m(\u001b[0m\u001b[0mdf\u001b[0m\u001b[0;34m[\u001b[0m\u001b[0;34m'likes_count'\u001b[0m\u001b[0;34m]\u001b[0m\u001b[0;34m>=\u001b[0m\u001b[0;36m10\u001b[0m\u001b[0;34m)\u001b[0m \u001b[0;32mand\u001b[0m \u001b[0;34m(\u001b[0m\u001b[0mdf\u001b[0m\u001b[0;34m[\u001b[0m\u001b[0;34m'likes_count'\u001b[0m\u001b[0;34m]\u001b[0m\u001b[0;34m<=\u001b[0m\u001b[0;36m15\u001b[0m\u001b[0;34m)\u001b[0m\u001b[0;34m,\u001b[0m\u001b[0;34m\u001b[0m\u001b[0;34m\u001b[0m\u001b[0m\n\u001b[1;32m      6\u001b[0m     \u001b[0;34m(\u001b[0m\u001b[0mdf\u001b[0m\u001b[0;34m[\u001b[0m\u001b[0;34m'likes_count'\u001b[0m\u001b[0;34m]\u001b[0m\u001b[0;34m>=\u001b[0m\u001b[0;36m16\u001b[0m\u001b[0;34m)\u001b[0m\u001b[0;34m\u001b[0m\u001b[0;34m\u001b[0m\u001b[0m\n",
      "\u001b[0;32m~/anaconda3/lib/python3.7/site-packages/pandas/core/generic.py\u001b[0m in \u001b[0;36m__nonzero__\u001b[0;34m(self)\u001b[0m\n\u001b[1;32m   1477\u001b[0m     \u001b[0;32mdef\u001b[0m \u001b[0m__nonzero__\u001b[0m\u001b[0;34m(\u001b[0m\u001b[0mself\u001b[0m\u001b[0;34m)\u001b[0m\u001b[0;34m:\u001b[0m\u001b[0;34m\u001b[0m\u001b[0;34m\u001b[0m\u001b[0m\n\u001b[1;32m   1478\u001b[0m         raise ValueError(\n\u001b[0;32m-> 1479\u001b[0;31m             \u001b[0;34mf\"The truth value of a {type(self).__name__} is ambiguous. \"\u001b[0m\u001b[0;34m\u001b[0m\u001b[0;34m\u001b[0m\u001b[0m\n\u001b[0m\u001b[1;32m   1480\u001b[0m             \u001b[0;34m\"Use a.empty, a.bool(), a.item(), a.any() or a.all().\"\u001b[0m\u001b[0;34m\u001b[0m\u001b[0;34m\u001b[0m\u001b[0m\n\u001b[1;32m   1481\u001b[0m         )\n",
      "\u001b[0;31mValueError\u001b[0m: The truth value of a Series is ambiguous. Use a.empty, a.bool(), a.item(), a.any() or a.all()."
     ]
    }
   ],
   "source": [
    "# create a list of conditions\n",
    "conditions = [\n",
    "    (df['likes_count']<=2),\n",
    "    (df['likes_count']>2) and (df['likes_count']<=9),\n",
    "    (df['likes_count']>=10) and (df['likes_count']<=15),\n",
    "    (df['likes_count']>=16)\n",
    "]\n",
    "\n",
    "\n",
    "\n",
    "# create a list of tiers\n",
    "tiers = ['tier_4', 'tier_3', 'tier_2', 'tier_1']\n",
    "\n",
    "# create a new column 'tier'\n",
    "df['tier'] = np.select(conditions, tiers)"
   ]
  },
  {
   "cell_type": "code",
   "execution_count": null,
   "metadata": {},
   "outputs": [],
   "source": []
  }
 ],
 "metadata": {
  "kernelspec": {
   "display_name": "Python 3",
   "language": "python",
   "name": "python3"
  },
  "language_info": {
   "codemirror_mode": {
    "name": "ipython",
    "version": 3
   },
   "file_extension": ".py",
   "mimetype": "text/x-python",
   "name": "python",
   "nbconvert_exporter": "python",
   "pygments_lexer": "ipython3",
   "version": "3.7.7"
  },
  "toc": {
   "base_numbering": 1,
   "nav_menu": {},
   "number_sections": true,
   "sideBar": true,
   "skip_h1_title": false,
   "title_cell": "Table of Contents",
   "title_sidebar": "Contents",
   "toc_cell": false,
   "toc_position": {},
   "toc_section_display": true,
   "toc_window_display": false
  }
 },
 "nbformat": 4,
 "nbformat_minor": 4
}
